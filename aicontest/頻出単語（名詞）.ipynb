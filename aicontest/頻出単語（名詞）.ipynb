{
 "cells": [
  {
   "cell_type": "code",
   "execution_count": 126,
   "metadata": {},
   "outputs": [],
   "source": [
    "import MeCab\n",
    "import sys\n",
    "import re\n",
    "from collections import Counter"
   ]
  },
  {
   "cell_type": "code",
   "execution_count": 127,
   "metadata": {},
   "outputs": [],
   "source": [
    "import glob\n",
    "import numpy as np\n",
    "import csv\n",
    "import pprint"
   ]
  },
  {
   "cell_type": "code",
   "execution_count": 128,
   "metadata": {},
   "outputs": [],
   "source": [
    "tagger= MeCab.Tagger()"
   ]
  },
  {
   "cell_type": "code",
   "execution_count": 129,
   "metadata": {},
   "outputs": [],
   "source": [
    "file_text = [] #テキストファイル名を格納するリスト型変数\n",
    "#muliti files\n",
    "for file in glob.glob('./input/*.txt'): #Pythonソースと同じディレクトリの「test」フォルダにあるテキストファイルが対象\n",
    "    #file_name.append(os.path.basename(file)) #ファイルパスからファイル名のみ抽出\n",
    "    file_data = open(file,'r',encoding='utf-8-sig') \n",
    "    bindata = file_data.read()\n",
    "    parse_data = tagger.parse(bindata)\n",
    "    lines = parse_data.split('\\n')\n",
    "    items = (re.split('[\\t,]', line) for line in lines)\n",
    "    # 名詞をリストに格納\n",
    "    words = [item[0]\n",
    "             for item in items\n",
    "             if (item[0] not in ('EOS', '', 't', 'ー') and\n",
    "                 item[1] == '名詞' and item[2] == '一般')]\n",
    "    file_text.extend(words) "
   ]
  },
  {
   "cell_type": "code",
   "execution_count": 130,
   "metadata": {},
   "outputs": [],
   "source": [
    "# 抽出テキスト\n",
    "#print(file_text)"
   ]
  },
  {
   "cell_type": "code",
   "execution_count": 131,
   "metadata": {},
   "outputs": [
    {
     "name": "stdout",
     "output_type": "stream",
     "text": [
      "株式会社: 603\n",
      "機械: 510\n",
      "メーカー: 410\n",
      "月: 409\n",
      "本社: 367\n",
      "事業: 367\n",
      "企業: 292\n",
      "会社: 205\n",
      "機器: 200\n",
      "工場: 181\n",
      "製品: 159\n",
      "技術: 150\n",
      "産業: 147\n",
      "グループ: 130\n",
      "世界: 126\n",
      "シェア: 125\n",
      "自動: 120\n",
      "社名: 110\n",
      "国内: 108\n",
      "自動車: 108\n",
      "システム: 106\n",
      "同社: 100\n",
      "部品: 99\n",
      "子会社: 94\n",
      "業界: 92\n",
      "Ltd: 89\n",
      "工業: 85\n",
      "ブランド: 80\n",
      "パチンコ: 76\n",
      "Co: 76\n",
      "製作所: 75\n",
      "環境: 68\n",
      "機種: 68\n",
      "海外: 67\n",
      "主力: 65\n",
      "部門: 63\n",
      "LTD: 62\n",
      "CO: 59\n",
      "分野: 59\n",
      "パチスロ: 59\n",
      "商品: 58\n",
      "鉄道: 58\n",
      "市場: 58\n",
      "シリーズ: 57\n",
      "大手: 56\n",
      "機関: 54\n",
      "最大: 54\n",
      "各種: 53\n",
      "中心: 53\n",
      "エンジン: 53\n",
      "小型: 53\n",
      "工具: 52\n",
      "ポンプ: 51\n",
      "業務: 51\n",
      "社長: 49\n",
      "電子: 49\n",
      "容器: 48\n",
      "ゲーム: 46\n",
      "水: 45\n",
      "株式: 43\n",
      "拠点: 41\n",
      "トップ: 41\n",
      "プラント: 41\n",
      "ロボット: 40\n",
      "資本: 40\n",
      "エレベーター: 40\n",
      "売上: 39\n",
      "油圧: 37\n",
      "証券: 37\n",
      "食品: 37\n",
      "ミシン: 36\n",
      "株主: 34\n",
      "エンジニアリング: 34\n",
      "Corporation: 32\n",
      "半導体: 32\n",
      "英文: 31\n",
      "ホープ: 31\n",
      "時代: 30\n",
      "旋盤: 30\n",
      "クレーン: 30\n",
      "大型: 29\n",
      "遊技: 29\n",
      "メンテナンス: 29\n",
      "工程: 29\n",
      "ダイヤモンド: 28\n",
      "他: 28\n",
      "車両: 28\n",
      "バルブ: 28\n",
      "スポンサー: 28\n",
      "業績: 27\n",
      "トラック: 27\n",
      "アミューズメント: 27\n",
      "研削: 26\n",
      "取締役: 26\n",
      "ユニバーサル: 26\n",
      "チェーン: 26\n",
      "名: 25\n",
      "傘下: 25\n",
      "番組: 24\n",
      "宇宙: 24\n"
     ]
    }
   ],
   "source": [
    "# 頻度順に出力\n",
    "# Ref: https://note.nkmk.me/python-collections-counter/\n",
    "counter = Counter(file_text)\n",
    "count_file = []\n",
    "for word, count in counter.most_common(100):\n",
    "    count_file.append(word)\n",
    "    print(f\"{word}: {count}\")"
   ]
  },
  {
   "cell_type": "code",
   "execution_count": 132,
   "metadata": {},
   "outputs": [],
   "source": [
    "# CSVファイルを作成\n",
    "with open('./output/word_count.csv', 'w') as f:\n",
    "    writer = csv.writer(f)\n",
    "    writer.writerow(count_file)"
   ]
  },
  {
   "cell_type": "code",
   "execution_count": 133,
   "metadata": {},
   "outputs": [
    {
     "name": "stdout",
     "output_type": "stream",
     "text": [
      "株式会社,機械,メーカー,月,本社,事業,企業,会社,機器,工場,製品,技術,産業,グループ,世界,シェア,自動,社名,国内,自動車,システム,同社,部品,子会社,業界,Ltd,工業,ブランド,パチンコ,Co,製作所,環境,機種,海外,主力,部門,LTD,CO,分野,パチスロ,商品,鉄道,市場,シリーズ,大手,機関,最大,各種,中心,エンジン,小型,工具,ポンプ,業務,社長,電子,容器,ゲーム,水,株式,拠点,トップ,プラント,ロボット,資本,エレベーター,売上,油圧,証券,食品,ミシン,株主,エンジニアリング,Corporation,半導体,英文,ホープ,時代,旋盤,クレーン,大型,遊技,メンテナンス,工程,ダイヤモンド,他,車両,バルブ,スポンサー,業績,トラック,アミューズメント,研削,取締役,ユニバーサル,チェーン,名,傘下,番組,宇宙\n",
      "\n"
     ]
    }
   ],
   "source": [
    "with open('./output/word_count.csv') as f:\n",
    "    print(f.read())"
   ]
  },
  {
   "cell_type": "code",
   "execution_count": null,
   "metadata": {},
   "outputs": [],
   "source": []
  },
  {
   "cell_type": "code",
   "execution_count": null,
   "metadata": {},
   "outputs": [],
   "source": []
  }
 ],
 "metadata": {
  "kernelspec": {
   "display_name": "Python 3",
   "language": "python",
   "name": "python3"
  },
  "language_info": {
   "codemirror_mode": {
    "name": "ipython",
    "version": 3
   },
   "file_extension": ".py",
   "mimetype": "text/x-python",
   "name": "python",
   "nbconvert_exporter": "python",
   "pygments_lexer": "ipython3",
   "version": "3.6.5"
  }
 },
 "nbformat": 4,
 "nbformat_minor": 2
}
